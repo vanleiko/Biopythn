{
  "nbformat": 4,
  "nbformat_minor": 0,
  "metadata": {
    "colab": {
      "name": "Biopython.ipynb",
      "provenance": [],
      "collapsed_sections": [
        "0oMsCA0U5ncf",
        "iQT1Dkg57QM6",
        "PNwpItRF7pUK",
        "lyNIQ5SLAe0R",
        "Q8Z_uztJGn47",
        "UOq2KKhZ8AV4",
        "kUenbT6_eHRJ",
        "1xeScuoGfRi5",
        "NgYg1vbKnHvL",
        "Xy2HNzOSgXcn",
        "HuXA8W_en0Dn",
        "TOka5afeohuJ",
        "AUsRzNQpvE6f",
        "DeFqIzhu8xkl",
        "-enUoDe4u8Rj",
        "B0Eo63mPvWV1",
        "v7rUYpz_vgnu",
        "vWOoeYRA3Tw_",
        "bCPcJ3_66skE",
        "4bX2WlOw7YTT",
        "5IMF6Nbb8Qt-",
        "pqvatpImGb0b",
        "dzoZnvBXZAp9",
        "NY3OFREjgSUk",
        "QrXW1uFdgZLB"
      ],
      "authorship_tag": "ABX9TyMEERXfOVSG9VNSO6wTKidG",
      "include_colab_link": true
    },
    "kernelspec": {
      "name": "python3",
      "display_name": "Python 3"
    }
  },
  "cells": [
    {
      "cell_type": "markdown",
      "metadata": {
        "id": "view-in-github",
        "colab_type": "text"
      },
      "source": [
        "<a href=\"https://colab.research.google.com/github/vanleiko/Biopythn/blob/main/Biopython.ipynb\" target=\"_parent\"><img src=\"https://colab.research.google.com/assets/colab-badge.svg\" alt=\"Open In Colab\"/></a>"
      ]
    },
    {
      "cell_type": "markdown",
      "metadata": {
        "id": "0oMsCA0U5ncf"
      },
      "source": [
        "**É necessário ter conhecimento básico de Python e Programação Orientada a Objeto**\n",
        "\n",
        "\n",
        "\n",
        "---\n",
        "#**Biopython - Meterial utilizado:**\n",
        "\n",
        "Documentação do módulo *Bio.Seq*: https://biopython.org/docs/1.75/api/Bio.Seq.html\n",
        "\n",
        "Documentação da classe *Seq*: https://biopython.org/wiki/Seq\n",
        "___ "
      ]
    },
    {
      "cell_type": "markdown",
      "metadata": {
        "id": "iQT1Dkg57QM6"
      },
      "source": [
        "#<font color=\"green\"> **1 Instalação da biblioteca Biopython aqui no notebook**\n",
        "- Primeiro é preciso instalar a biblioteca Biopython rodando o comando abaixo:"
      ]
    },
    {
      "cell_type": "code",
      "metadata": {
        "id": "aI1tXq-F4VGO",
        "colab": {
          "base_uri": "https://localhost:8080/"
        },
        "outputId": "7df4b893-cb1e-4162-823d-74b8469f0ce3"
      },
      "source": [
        " !pip install biopython"
      ],
      "execution_count": null,
      "outputs": [
        {
          "output_type": "stream",
          "text": [
            "Collecting biopython\n",
            "\u001b[?25l  Downloading https://files.pythonhosted.org/packages/76/02/8b606c4aa92ff61b5eda71d23b499ab1de57d5e818be33f77b01a6f435a8/biopython-1.78-cp36-cp36m-manylinux1_x86_64.whl (2.3MB)\n",
            "\u001b[K     |████████████████████████████████| 2.3MB 2.8MB/s \n",
            "\u001b[?25hRequirement already satisfied: numpy in /usr/local/lib/python3.6/dist-packages (from biopython) (1.18.5)\n",
            "Installing collected packages: biopython\n",
            "Successfully installed biopython-1.78\n"
          ],
          "name": "stdout"
        }
      ]
    },
    {
      "cell_type": "markdown",
      "metadata": {
        "id": "PNwpItRF7pUK"
      },
      "source": [
        "#<font color=\"green\">  **2 Fita complementar, transcrição e tradução do DNA**\n",
        "\n",
        "- Sem dúvidas, a matéria prima principal da bioinformática é a sequência! Vamos ver como lidar com elas.\n",
        "- As sequências são um conjunto de letras do tipo **string**, por exemplo \"ATGCATGCATGC\". Porém, isso é apenas um conjunto de letras sem significado e, por isso, precisamos \"transformá-las\" em uma sequência biológica na qual os métodos da biblioteca Biopython poderão ser aplicados.\n",
        "- Para isso, as sequências são trabalhadas como **objetos** da classe *Seq*. Devemos sempre fazer sua importação: <font color=\"red\">*from Bio.Seq import Seq* </font>."
      ]
    },
    {
      "cell_type": "code",
      "metadata": {
        "id": "j9_Us068tWyg"
      },
      "source": [
        "# do módulo Bio.Seq, importamos a classe Seq\n",
        "from Bio.Seq import Seq  "
      ],
      "execution_count": null,
      "outputs": []
    },
    {
      "cell_type": "code",
      "metadata": {
        "id": "Ve6RU1mh5doB",
        "colab": {
          "base_uri": "https://localhost:8080/"
        },
        "outputId": "17faf799-cede-4ec1-fac8-5c64c0fb66fe"
      },
      "source": [
        "# declaramos a nossa sequência de interesse (por exemplo \"ATGCATGCATGC\") como um objeto de Seq e guardamos na variável meu_dna\n",
        "meu_dna = Seq(\"ATGCATGCATGC\")   \n",
        "\n",
        "# a variável meu_dna contém nosso objeto\n",
        "meu_dna   "
      ],
      "execution_count": null,
      "outputs": [
        {
          "output_type": "execute_result",
          "data": {
            "text/plain": [
              "Seq('ATGCATGCATGC')"
            ]
          },
          "metadata": {
            "tags": []
          },
          "execution_count": 4
        }
      ]
    },
    {
      "cell_type": "markdown",
      "metadata": {
        "id": "lyNIQ5SLAe0R"
      },
      "source": [
        "###**2.1 Sequência complementar e complementar reversa**\n",
        "- Agora que nossa sequência é um **objeto** da classe *Seq*, podemos usar os métodos que essa classe nos fornece. Vamos ver alguns exemplos:\n",
        "- Para começarmos, vamos achar a sequência complementar, e o reverso da complementar, da nossa sequência de DNA. Para isso, a classe *Seq* fornece os métodos *.complement()* e *.reverse_complement()*, respectivamente."
      ]
    },
    {
      "cell_type": "code",
      "metadata": {
        "id": "D86_N-AsAjaP",
        "colab": {
          "base_uri": "https://localhost:8080/"
        },
        "outputId": "49990920-a576-4032-b082-92bafee402be"
      },
      "source": [
        "# esse método retorna a sequência complementar do nosso DNA\n",
        "meu_dna.complement()  "
      ],
      "execution_count": null,
      "outputs": [
        {
          "output_type": "execute_result",
          "data": {
            "text/plain": [
              "Seq('TACGTACGTACG')"
            ]
          },
          "metadata": {
            "tags": []
          },
          "execution_count": 35
        }
      ]
    },
    {
      "cell_type": "markdown",
      "metadata": {
        "id": "w6Kwm1_4CWr8"
      },
      "source": [
        "Esse método não altera a sequência original. Você pode então salvar sua sequência complementar em uma nova variável:"
      ]
    },
    {
      "cell_type": "code",
      "metadata": {
        "id": "MjwhAjNGBqOj",
        "colab": {
          "base_uri": "https://localhost:8080/"
        },
        "outputId": "c115458c-66ef-4612-cb3b-e0d238a92af4"
      },
      "source": [
        "# meu_dna_complementar é a nossa nova variável\n",
        "meu_dna_complementar = meu_dna.complement()\n",
        "\n",
        "# repare que o sentido da sequência complementar aqui é 3'-5'\n",
        "meu_dna_complementar    "
      ],
      "execution_count": null,
      "outputs": [
        {
          "output_type": "execute_result",
          "data": {
            "text/plain": [
              "Seq('TACGTACGTACG')"
            ]
          },
          "metadata": {
            "tags": []
          },
          "execution_count": 36
        }
      ]
    },
    {
      "cell_type": "markdown",
      "metadata": {
        "id": "nST_X8SNCpTU"
      },
      "source": [
        "E a nossa sequência original permaneceu a mesma:"
      ]
    },
    {
      "cell_type": "code",
      "metadata": {
        "id": "gVijYjgOCRUS",
        "colab": {
          "base_uri": "https://localhost:8080/"
        },
        "outputId": "2b74a6b1-05d7-4cb8-8e13-bd090e4ef9eb"
      },
      "source": [
        "meu_dna"
      ],
      "execution_count": null,
      "outputs": [
        {
          "output_type": "execute_result",
          "data": {
            "text/plain": [
              "Seq('ATGCATGCATGC')"
            ]
          },
          "metadata": {
            "tags": []
          },
          "execution_count": 37
        }
      ]
    },
    {
      "cell_type": "markdown",
      "metadata": {
        "id": "4jn-mr3gC7gB"
      },
      "source": [
        "Agora vamos obter o reverso da sequência complementar:"
      ]
    },
    {
      "cell_type": "code",
      "metadata": {
        "id": "2Wswb-eSC-Zj",
        "colab": {
          "base_uri": "https://localhost:8080/"
        },
        "outputId": "b52cc093-a28f-4970-8422-aae6613e1020"
      },
      "source": [
        "# aqui a sequência complementar é no sentido 5'-3'\n",
        "meu_dna.reverse_complement()    "
      ],
      "execution_count": null,
      "outputs": [
        {
          "output_type": "execute_result",
          "data": {
            "text/plain": [
              "Seq('GCATGCATGCAT')"
            ]
          },
          "metadata": {
            "tags": []
          },
          "execution_count": 38
        }
      ]
    },
    {
      "cell_type": "markdown",
      "metadata": {
        "id": "Gj-sj1rLEPkn"
      },
      "source": [
        "<font color=\"red\"> *>>> Lembre-se que toda síntese, tanto de DNA quanto de RNA, é feita no sentido 5'-3'* </font>"
      ]
    },
    {
      "cell_type": "markdown",
      "metadata": {
        "id": "1wFeXt4uH4yW"
      },
      "source": [
        "<font color=\"green\">Observação</font>: se sua sequência é uma fita de RNA, você também pode achar a sequência de RNA complementar usando o método *.complement_rna()*"
      ]
    },
    {
      "cell_type": "code",
      "metadata": {
        "id": "-_Q-Q9tgIK5y",
        "colab": {
          "base_uri": "https://localhost:8080/"
        },
        "outputId": "a21724f4-f05a-45be-f8d5-6122020a3d65"
      },
      "source": [
        "# declaramos nossa sequência de RNA \"AUGCAUGCAUGC\" como um objeto de Seq\n",
        "meu_rna = Seq(\"AUGCAUGCAUGC\")  \n",
        "\n",
        "# aqui teremos nossa sequência complementar de RNA\n",
        "meu_rna.complement_rna()"
      ],
      "execution_count": null,
      "outputs": [
        {
          "output_type": "execute_result",
          "data": {
            "text/plain": [
              "Seq('UACGUACGUACG')"
            ]
          },
          "metadata": {
            "tags": []
          },
          "execution_count": 39
        }
      ]
    },
    {
      "cell_type": "markdown",
      "metadata": {
        "id": "Q8Z_uztJGn47"
      },
      "source": [
        "###**2.2 Transcrição da sequência**\n",
        "- Agora vamos transcrever nossa sequência de DNA e achar sua sequência de RNA correspondente (o transcrito), usando o método *.transcribe()* e iremos salvá-la em uma nova variável:"
      ]
    },
    {
      "cell_type": "code",
      "metadata": {
        "id": "Jx1LQ-eeGmrr",
        "colab": {
          "base_uri": "https://localhost:8080/"
        },
        "outputId": "01c30b66-26d6-44e5-e707-3f8c64a1759a"
      },
      "source": [
        "# transcrever nossa sequência e salvar na variável 'transcrito'\n",
        "transcrito = meu_dna.transcribe()\n",
        "transcrito"
      ],
      "execution_count": null,
      "outputs": [
        {
          "output_type": "execute_result",
          "data": {
            "text/plain": [
              "Seq('AUGCAUGCAUGC')"
            ]
          },
          "metadata": {
            "tags": []
          },
          "execution_count": 5
        }
      ]
    },
    {
      "cell_type": "markdown",
      "metadata": {
        "id": "wijQ6Q3WJ_2D"
      },
      "source": [
        "Também podemos transcrever a sequência de volta, ou seja, do RNA para DNA, usando o método *.back_transcribe()*"
      ]
    },
    {
      "cell_type": "code",
      "metadata": {
        "id": "9cAchraSInmg",
        "colab": {
          "base_uri": "https://localhost:8080/"
        },
        "outputId": "65545810-039f-43fd-87c9-21c3c293c1b0"
      },
      "source": [
        "# transcrevendo do RNA de volta para DNA\n",
        "transcrito.back_transcribe()"
      ],
      "execution_count": null,
      "outputs": [
        {
          "output_type": "execute_result",
          "data": {
            "text/plain": [
              "Seq('ATGCATGCATGC')"
            ]
          },
          "metadata": {
            "tags": []
          },
          "execution_count": 6
        }
      ]
    },
    {
      "cell_type": "markdown",
      "metadata": {
        "id": "4hOpJhZSCSPO"
      },
      "source": [
        "<font color=\"red\"> >>> Relembrando alguns conceitos:</font>\n",
        "\n",
        "<font color=\"green\">*Fita molde*</font> é a fita de DNA que servirá como molde para a síntese do RNA.\n",
        "\n",
        "<font color=\"green\">*Fita codificadora*</font> é a fita de DNA com sequência idêntica ao RNA transcrito, exceto pelas bases U e T.\n",
        "\n",
        "Portanto, se a sequência de DNA utilizada é \"ATGCATGCATGC\" e o transcrito retornado pelo método *.transcribe()* é \"AUGCAUGCAUGC\", significa que *nossa fita de DNA é a fita codificadora!*\n",
        "\n",
        "Se quiser obter a fita molde a partir da sequência de RNA, podemos fazer:\n"
      ]
    },
    {
      "cell_type": "code",
      "metadata": {
        "id": "KPClqK1NjqLb",
        "colab": {
          "base_uri": "https://localhost:8080/"
        },
        "outputId": "1c6d1b54-b98d-460f-f71e-6a5be760b43d"
      },
      "source": [
        "# pegamos nosso transcrito, transcrevemos de volta para DNA e por último obtemos a fita complementar reversa (que é a fita molde)\n",
        "transcrito.back_transcribe().reverse_complement()"
      ],
      "execution_count": null,
      "outputs": [
        {
          "output_type": "execute_result",
          "data": {
            "text/plain": [
              "Seq('GCATGCATGCAT')"
            ]
          },
          "metadata": {
            "tags": []
          },
          "execution_count": 8
        }
      ]
    },
    {
      "cell_type": "markdown",
      "metadata": {
        "id": "UOq2KKhZ8AV4"
      },
      "source": [
        "###**2.3 Tradução da sequência**\n",
        "- Aqui iremos obter a sequência de aminoácidos (suas abreviações com uma letra). Primeiro vamos fazer a tradução a partir da fita de RNA mensageiro, utilizando o método *.translate()*"
      ]
    },
    {
      "cell_type": "code",
      "metadata": {
        "id": "xWgTBPOUJjMq",
        "colab": {
          "base_uri": "https://localhost:8080/"
        },
        "outputId": "554e664e-55a0-4d8e-e9bd-a3538dd0f4f1"
      },
      "source": [
        "# nossa sequência de RNA\n",
        "meu_rna = Seq(\"AUACGUAUUGGAUUUAUA\") \n",
        "\n",
        "# obter a proteína a partir do RNA e salvar na variável 'proteina_rna'\n",
        "proteina_rna = meu_rna.translate()  \n",
        "proteina_rna"
      ],
      "execution_count": null,
      "outputs": [
        {
          "output_type": "execute_result",
          "data": {
            "text/plain": [
              "Seq('IRIGFI')"
            ]
          },
          "metadata": {
            "tags": []
          },
          "execution_count": 9
        }
      ]
    },
    {
      "cell_type": "markdown",
      "metadata": {
        "id": "ne3Ymi__9HQq"
      },
      "source": [
        "Esse método reconhece os stop codons. Vamos utilizar o stop codon \"UGA\" no final da sequência como exemplo e você verá que o método retornará um asterisco (por padrão) representando o codon de parada:"
      ]
    },
    {
      "cell_type": "code",
      "metadata": {
        "id": "bnMP-DU48kUD",
        "colab": {
          "base_uri": "https://localhost:8080/"
        },
        "outputId": "626ab0d9-580e-4d73-9209-d41f7fde0f88"
      },
      "source": [
        "# sequência de RNA com stop codon 'UGA' no final\n",
        "meu_rna_stop = Seq(\"AUACGUAUUGGAUUUAUAUGA\") \n",
        "\n",
        "# tradução da nossa sequência de RNA\n",
        "proteina_rna_stop = meu_rna_stop.translate()\n",
        "\n",
        "# repare que 'UGA' é representado por * \n",
        "proteina_rna_stop "
      ],
      "execution_count": null,
      "outputs": [
        {
          "output_type": "execute_result",
          "data": {
            "text/plain": [
              "Seq('IRIGFI*')"
            ]
          },
          "metadata": {
            "tags": []
          },
          "execution_count": 10
        }
      ]
    },
    {
      "cell_type": "markdown",
      "metadata": {
        "id": "z4CcBgpk-3ts"
      },
      "source": [
        "Mas e se o stop codon estiver no meio da sequência? Aqui temos 2 opções:\n",
        "\n",
        "a) podemos fazer com que a tradução seja interrompida no codon de parada ao estabelecermos o argumento <font color=\"blue\"> *to_stop=True* </font>.\n",
        "\n",
        "b) podemos continuar com a tradução mesmo após o codon de parada, o qual será representado pelo asterisco. Aqui o argumento <font color=\"blue\"> *to_stop=False* </font> já vem como valor padrão do método."
      ]
    },
    {
      "cell_type": "code",
      "metadata": {
        "id": "XxEU7ElA_PHF",
        "colab": {
          "base_uri": "https://localhost:8080/"
        },
        "outputId": "c08a7ca7-e1b7-4255-82bc-69d6ed78ff82"
      },
      "source": [
        "# colocamos o 'UGA' no meio da sequência\n",
        "meu_rna_stop2 = Seq(\"AUACGUAUUUGAGGAUUUAUA\")  \n",
        "\n",
        "# a tradução será interrompida quando encontrar o stop codon \"UGA\"\n",
        "proteina2 = meu_rna_stop2.translate(to_stop=True) \n",
        "proteina2   "
      ],
      "execution_count": null,
      "outputs": [
        {
          "output_type": "execute_result",
          "data": {
            "text/plain": [
              "Seq('IRI')"
            ]
          },
          "metadata": {
            "tags": []
          },
          "execution_count": 11
        }
      ]
    },
    {
      "cell_type": "code",
      "metadata": {
        "id": "H6Zijpfc_yCQ",
        "colab": {
          "base_uri": "https://localhost:8080/"
        },
        "outputId": "ed7aef5c-cf17-4751-c6c4-2d0e9343fb6d"
      },
      "source": [
        "# a tradução aqui não será interrompida, já que 'to_stop=False' por padrão\n",
        "proteina2 = meu_rna_stop2.translate()  \n",
        "proteina2   "
      ],
      "execution_count": null,
      "outputs": [
        {
          "output_type": "execute_result",
          "data": {
            "text/plain": [
              "Seq('IRI*GFI')"
            ]
          },
          "metadata": {
            "tags": []
          },
          "execution_count": 12
        }
      ]
    },
    {
      "cell_type": "markdown",
      "metadata": {
        "id": "95C1SVXH9FtY"
      },
      "source": [
        "Também é possível fazer a tradução diretamente da fita de DNA:\n"
      ]
    },
    {
      "cell_type": "code",
      "metadata": {
        "id": "znzj9lp9-E-3",
        "colab": {
          "base_uri": "https://localhost:8080/"
        },
        "outputId": "2f5448d8-5187-47a9-b3f5-a704bb44b0fc"
      },
      "source": [
        "proteina_dna = meu_dna.translate()\n",
        "proteina_dna"
      ],
      "execution_count": null,
      "outputs": [
        {
          "output_type": "execute_result",
          "data": {
            "text/plain": [
              "Seq('MHAC')"
            ]
          },
          "metadata": {
            "tags": []
          },
          "execution_count": 13
        }
      ]
    },
    {
      "cell_type": "code",
      "metadata": {
        "id": "8qv72QkQA-lI"
      },
      "source": [
        ""
      ],
      "execution_count": null,
      "outputs": []
    },
    {
      "cell_type": "markdown",
      "metadata": {
        "id": "kUenbT6_eHRJ"
      },
      "source": [
        "#<font color=\"green\"> **3 Métodos gerais**\n",
        "\n",
        "Nessa seção, veremos alguns métodos  utilizados nos **objetos** da classe *Seq* e que agem como se fossem métodos usados em strings em Python. "
      ]
    },
    {
      "cell_type": "markdown",
      "metadata": {
        "id": "1xeScuoGfRi5"
      },
      "source": [
        "###**3.1 .find()** \n",
        "- serve para localizarmos um trecho em uma sequência, retornando o índice do primeiro nucleotídeo (lembre-se que a contagem em Python começa pelo zero). Se o trecho procurado não estiver na sequência, o método retornará -1:"
      ]
    },
    {
      "cell_type": "code",
      "metadata": {
        "id": "HT7GlX4Ae9O2",
        "colab": {
          "base_uri": "https://localhost:8080/"
        },
        "outputId": "c6016585-327e-4da9-ff31-65611babb717"
      },
      "source": [
        "from Bio.Seq import Seq\n",
        "\n",
        "# declaramos nossa sequência como objeto da classe Seq e salvamos na variável meu_dna\n",
        "meu_dna = Seq(\"AATGGCTTCGGA\")\n",
        "\n",
        "# passamos o trecho de DNA procurado 'GGC' para o método .find()\n",
        "meu_dna.find(\"GGC\")\n"
      ],
      "execution_count": null,
      "outputs": [
        {
          "output_type": "execute_result",
          "data": {
            "text/plain": [
              "3"
            ]
          },
          "metadata": {
            "tags": []
          },
          "execution_count": 15
        }
      ]
    },
    {
      "cell_type": "code",
      "metadata": {
        "id": "fji-UOPgfn8c",
        "colab": {
          "base_uri": "https://localhost:8080/"
        },
        "outputId": "36f25556-3a7a-47a2-f666-1f7b2e6a2b18"
      },
      "source": [
        "# se passarmos um trecho que não existe na nossa sequência, o método retorará -1\n",
        "meu_dna.find(\"AAA\")"
      ],
      "execution_count": null,
      "outputs": [
        {
          "output_type": "execute_result",
          "data": {
            "text/plain": [
              "-1"
            ]
          },
          "metadata": {
            "tags": []
          },
          "execution_count": 16
        }
      ]
    },
    {
      "cell_type": "markdown",
      "metadata": {
        "id": "NgYg1vbKnHvL"
      },
      "source": [
        "###**3.2 .index()**\n",
        "- semelhante ao *.find()*, porém retorna <font color=\"red\"> ValueError </font>se o trecho não é encontrado:"
      ]
    },
    {
      "cell_type": "code",
      "metadata": {
        "id": "HFUKR8yunXA-",
        "colab": {
          "base_uri": "https://localhost:8080/"
        },
        "outputId": "d5fe708b-30eb-4018-e9b8-b60922ef7b39"
      },
      "source": [
        "meu_dna.index(\"GGC\")"
      ],
      "execution_count": null,
      "outputs": [
        {
          "output_type": "execute_result",
          "data": {
            "text/plain": [
              "3"
            ]
          },
          "metadata": {
            "tags": []
          },
          "execution_count": 17
        }
      ]
    },
    {
      "cell_type": "code",
      "metadata": {
        "id": "xI9CfJkWna44",
        "colab": {
          "base_uri": "https://localhost:8080/",
          "height": 299
        },
        "outputId": "a59c04cd-0669-4929-f572-da8e421854fc"
      },
      "source": [
        "# irá retornar um erro\n",
        "meu_dna.index(\"AAA\")  "
      ],
      "execution_count": null,
      "outputs": [
        {
          "output_type": "error",
          "ename": "ValueError",
          "evalue": "ignored",
          "traceback": [
            "\u001b[0;31m---------------------------------------------------------------------------\u001b[0m",
            "\u001b[0;31mValueError\u001b[0m                                Traceback (most recent call last)",
            "\u001b[0;32m<ipython-input-18-8145c2fc8281>\u001b[0m in \u001b[0;36m<module>\u001b[0;34m()\u001b[0m\n\u001b[1;32m      1\u001b[0m \u001b[0;31m# irá retornar um erro\u001b[0m\u001b[0;34m\u001b[0m\u001b[0;34m\u001b[0m\u001b[0;34m\u001b[0m\u001b[0m\n\u001b[0;32m----> 2\u001b[0;31m \u001b[0mmeu_dna\u001b[0m\u001b[0;34m.\u001b[0m\u001b[0mindex\u001b[0m\u001b[0;34m(\u001b[0m\u001b[0;34m\"AAA\"\u001b[0m\u001b[0;34m)\u001b[0m\u001b[0;34m\u001b[0m\u001b[0;34m\u001b[0m\u001b[0m\n\u001b[0m",
            "\u001b[0;32m/usr/local/lib/python3.6/dist-packages/Bio/Seq.py\u001b[0m in \u001b[0;36mindex\u001b[0;34m(self, sub, start, end)\u001b[0m\n\u001b[1;32m    478\u001b[0m         \u001b[0mValueError\u001b[0m\u001b[0;34m:\u001b[0m \u001b[0msubstring\u001b[0m \u001b[0;32mnot\u001b[0m \u001b[0mfound\u001b[0m\u001b[0;34m...\u001b[0m\u001b[0;34m\u001b[0m\u001b[0;34m\u001b[0m\u001b[0m\n\u001b[1;32m    479\u001b[0m         \"\"\"\n\u001b[0;32m--> 480\u001b[0;31m         \u001b[0;32mreturn\u001b[0m \u001b[0mstr\u001b[0m\u001b[0;34m(\u001b[0m\u001b[0mself\u001b[0m\u001b[0;34m)\u001b[0m\u001b[0;34m.\u001b[0m\u001b[0mindex\u001b[0m\u001b[0;34m(\u001b[0m\u001b[0mstr\u001b[0m\u001b[0;34m(\u001b[0m\u001b[0msub\u001b[0m\u001b[0;34m)\u001b[0m\u001b[0;34m,\u001b[0m \u001b[0mstart\u001b[0m\u001b[0;34m,\u001b[0m \u001b[0mend\u001b[0m\u001b[0;34m)\u001b[0m\u001b[0;34m\u001b[0m\u001b[0;34m\u001b[0m\u001b[0m\n\u001b[0m\u001b[1;32m    481\u001b[0m \u001b[0;34m\u001b[0m\u001b[0m\n\u001b[1;32m    482\u001b[0m     \u001b[0;32mdef\u001b[0m \u001b[0mrindex\u001b[0m\u001b[0;34m(\u001b[0m\u001b[0mself\u001b[0m\u001b[0;34m,\u001b[0m \u001b[0msub\u001b[0m\u001b[0;34m,\u001b[0m \u001b[0mstart\u001b[0m\u001b[0;34m=\u001b[0m\u001b[0;36m0\u001b[0m\u001b[0;34m,\u001b[0m \u001b[0mend\u001b[0m\u001b[0;34m=\u001b[0m\u001b[0msys\u001b[0m\u001b[0;34m.\u001b[0m\u001b[0mmaxsize\u001b[0m\u001b[0;34m)\u001b[0m\u001b[0;34m:\u001b[0m\u001b[0;34m\u001b[0m\u001b[0;34m\u001b[0m\u001b[0m\n",
            "\u001b[0;31mValueError\u001b[0m: substring not found"
          ]
        }
      ]
    },
    {
      "cell_type": "markdown",
      "metadata": {
        "id": "Xy2HNzOSgXcn"
      },
      "source": [
        "###**3.3 .count()**\n",
        "- conta a quantidade de uma base na sequência"
      ]
    },
    {
      "cell_type": "code",
      "metadata": {
        "id": "sOEBR4nxf3sL",
        "colab": {
          "base_uri": "https://localhost:8080/"
        },
        "outputId": "dfa514e3-7d17-447c-ac30-fea65d87d095"
      },
      "source": [
        "# contando as adeninas da sequência\n",
        "meu_dna.count(\"A\")\n"
      ],
      "execution_count": null,
      "outputs": [
        {
          "output_type": "execute_result",
          "data": {
            "text/plain": [
              "3"
            ]
          },
          "metadata": {
            "tags": []
          },
          "execution_count": 20
        }
      ]
    },
    {
      "cell_type": "code",
      "metadata": {
        "id": "NGOM14tg7C-0",
        "colab": {
          "base_uri": "https://localhost:8080/"
        },
        "outputId": "5513bba2-5acd-44e3-e812-ab5c5de60d6d"
      },
      "source": [
        "# contando as citosinas da sequência\n",
        "meu_dna.count(\"C\")"
      ],
      "execution_count": null,
      "outputs": [
        {
          "output_type": "execute_result",
          "data": {
            "text/plain": [
              "2"
            ]
          },
          "metadata": {
            "tags": []
          },
          "execution_count": 21
        }
      ]
    },
    {
      "cell_type": "markdown",
      "metadata": {
        "id": "TImWCzPmhmGU"
      },
      "source": [
        "**Cuidado** com as sobreposições *(overlap)* de nucleotídeos! Esse método não conta as sobreposições. Para isso, utilize *.count_overlap()*. Observe os exemplos:"
      ]
    },
    {
      "cell_type": "code",
      "metadata": {
        "id": "j0LN31a8gtGG",
        "colab": {
          "base_uri": "https://localhost:8080/"
        },
        "outputId": "725efc61-f1ff-4614-e141-e894dbd46ec4"
      },
      "source": [
        "# vamos declarar uma nova sequência \n",
        "minha_sobreposicao = Seq(\"AAAATCGTA\")\n",
        "\n",
        "# vamos usar o método para contar 'AA' \n",
        "minha_sobreposicao.count(\"AA\")  "
      ],
      "execution_count": null,
      "outputs": [
        {
          "output_type": "execute_result",
          "data": {
            "text/plain": [
              "2"
            ]
          },
          "metadata": {
            "tags": []
          },
          "execution_count": 22
        }
      ]
    },
    {
      "cell_type": "code",
      "metadata": {
        "id": "S5tURfC8iL4H",
        "colab": {
          "base_uri": "https://localhost:8080/"
        },
        "outputId": "26c06975-a9aa-4f21-dbb1-1eebb9e19c84"
      },
      "source": [
        "# se usarmos o método .count_overlap(), repare que ele conta as sobreposições\n",
        "minha_sobreposicao.count_overlap(\"AA\")  "
      ],
      "execution_count": null,
      "outputs": [
        {
          "output_type": "execute_result",
          "data": {
            "text/plain": [
              "3"
            ]
          },
          "metadata": {
            "tags": []
          },
          "execution_count": 23
        }
      ]
    },
    {
      "cell_type": "markdown",
      "metadata": {
        "id": "HuXA8W_en0Dn"
      },
      "source": [
        "###**3.4 .startswith()**\n",
        "- retorna *True* se a sequência iniciar com o trecho dado, ou *False* caso contrário:\n"
      ]
    },
    {
      "cell_type": "code",
      "metadata": {
        "id": "Kt_79eIroMI_",
        "colab": {
          "base_uri": "https://localhost:8080/"
        },
        "outputId": "e443a198-e8f0-4f0d-e596-d9f46e1c8cb1"
      },
      "source": [
        "# relembrando nossa sequência\n",
        "meu_dna   "
      ],
      "execution_count": null,
      "outputs": [
        {
          "output_type": "execute_result",
          "data": {
            "text/plain": [
              "Seq('AATGGCTTCGGA')"
            ]
          },
          "metadata": {
            "tags": []
          },
          "execution_count": 24
        }
      ]
    },
    {
      "cell_type": "code",
      "metadata": {
        "id": "dy-T0PH8nrQ4",
        "colab": {
          "base_uri": "https://localhost:8080/"
        },
        "outputId": "ed2c6663-866c-4bc8-99d2-d3a705d03202"
      },
      "source": [
        "meu_dna.startswith(\"AAT\")"
      ],
      "execution_count": null,
      "outputs": [
        {
          "output_type": "execute_result",
          "data": {
            "text/plain": [
              "True"
            ]
          },
          "metadata": {
            "tags": []
          },
          "execution_count": 25
        }
      ]
    },
    {
      "cell_type": "code",
      "metadata": {
        "id": "9BNNW1N8oJ3e",
        "colab": {
          "base_uri": "https://localhost:8080/"
        },
        "outputId": "54971adb-9bfb-4b78-fb10-597efca49a2f"
      },
      "source": [
        "meu_dna.startswith(\"ATG\")"
      ],
      "execution_count": null,
      "outputs": [
        {
          "output_type": "execute_result",
          "data": {
            "text/plain": [
              "False"
            ]
          },
          "metadata": {
            "tags": []
          },
          "execution_count": 26
        }
      ]
    },
    {
      "cell_type": "markdown",
      "metadata": {
        "id": "TOka5afeohuJ"
      },
      "source": [
        "###**3.5 .endsswith()**\n",
        "- retorna *True* se a sequência terminar com o trecho dado, ou *False* caso contrário:"
      ]
    },
    {
      "cell_type": "code",
      "metadata": {
        "id": "dgOHXf26oUHp",
        "colab": {
          "base_uri": "https://localhost:8080/"
        },
        "outputId": "e225d561-973e-47be-e583-f6ae7fa20d78"
      },
      "source": [
        "meu_dna.endswith(\"CGGA\")"
      ],
      "execution_count": null,
      "outputs": [
        {
          "output_type": "execute_result",
          "data": {
            "text/plain": [
              "True"
            ]
          },
          "metadata": {
            "tags": []
          },
          "execution_count": 27
        }
      ]
    },
    {
      "cell_type": "code",
      "metadata": {
        "id": "gP9C_NVsoqgX",
        "colab": {
          "base_uri": "https://localhost:8080/"
        },
        "outputId": "e17cf64c-9737-4e7e-b461-095e52686451"
      },
      "source": [
        "meu_dna.endswith(\"CGGU\")"
      ],
      "execution_count": null,
      "outputs": [
        {
          "output_type": "execute_result",
          "data": {
            "text/plain": [
              "False"
            ]
          },
          "metadata": {
            "tags": []
          },
          "execution_count": 28
        }
      ]
    },
    {
      "cell_type": "markdown",
      "metadata": {
        "id": "AUsRzNQpvE6f"
      },
      "source": [
        "###**3.6 .split()**\n",
        "- retorna uma lista de strings (como **objetos** de *Seq*) usando *sep* como delimitador. \n",
        "\n",
        "No exemplo, vamos pegar um RNA, traduzi-lo em uma proteina e depois usar como delimitador os stop codons (*):"
      ]
    },
    {
      "cell_type": "code",
      "metadata": {
        "id": "dle4f-g4osde",
        "colab": {
          "base_uri": "https://localhost:8080/"
        },
        "outputId": "83eb570d-9008-49c0-c7cc-7eb2e7a9ae5e"
      },
      "source": [
        "# vamos colcocar os stop codons 'UAA' e 'UGA' no meio da sequência\n",
        "rna = Seq(\"AUUGGUACGUAAGGCAGCGUGUGAUAUCCGGGG\")\n",
        "\n",
        "# traduzindo nossa sequência\n",
        "proteina = rna.translate()\n",
        "proteina"
      ],
      "execution_count": null,
      "outputs": [
        {
          "output_type": "execute_result",
          "data": {
            "text/plain": [
              "Seq('IGT*GSV*YPG')"
            ]
          },
          "metadata": {
            "tags": []
          },
          "execution_count": 29
        }
      ]
    },
    {
      "cell_type": "code",
      "metadata": {
        "id": "TVQHis6ApTLV",
        "colab": {
          "base_uri": "https://localhost:8080/"
        },
        "outputId": "17d57fdb-ceaa-43af-e82b-16c9061ab39b"
      },
      "source": [
        "# agora vamos quebrar nossa sequência de aminoácidos usando os stop codons(*) como delimitadores\n",
        "proteina.split(sep=\"*\")\n",
        "\n",
        "# repare que o método devolveu uma lista com nossos trechos como objetos de Seq"
      ],
      "execution_count": null,
      "outputs": [
        {
          "output_type": "execute_result",
          "data": {
            "text/plain": [
              "[Seq('IGT'), Seq('GSV'), Seq('YPG')]"
            ]
          },
          "metadata": {
            "tags": []
          },
          "execution_count": 30
        }
      ]
    },
    {
      "cell_type": "markdown",
      "metadata": {
        "id": "DeFqIzhu8xkl"
      },
      "source": [
        "###**3.7 .strip()**\n",
        "- remove os espaços do começo e do final da sequência"
      ]
    },
    {
      "cell_type": "code",
      "metadata": {
        "id": "HIybekOX9JJD",
        "colab": {
          "base_uri": "https://localhost:8080/"
        },
        "outputId": "43e19632-63a2-4c2b-85a6-e65ce4299b23"
      },
      "source": [
        "# vamos declarar uma sequência com espaços em branco no começo e no final\n",
        "meu_dna = Seq(' AATGGCTTCGGA ')\n",
        "\n",
        "# chamamos o método .strip(chars= ' ') para removers os espaços (' ') em branco\n",
        "meu_dna.strip(chars=' ')\n"
      ],
      "execution_count": null,
      "outputs": [
        {
          "output_type": "execute_result",
          "data": {
            "text/plain": [
              "Seq('AATGGCTTCGGA')"
            ]
          },
          "metadata": {
            "tags": []
          },
          "execution_count": 45
        }
      ]
    },
    {
      "cell_type": "code",
      "metadata": {
        "id": "Qjll9Z5Q96hx",
        "colab": {
          "base_uri": "https://localhost:8080/"
        },
        "outputId": "8d793b63-178c-41c2-f726-331935e56195"
      },
      "source": [
        "# vamos declarar uma sequência com '-' no início e no final'\n",
        "meu_dna = Seq('-AATGGCTTCGGA-')\n",
        "\n",
        "# chamamos o método .strip(chars= '-') para removers os ('-') \n",
        "meu_dna.strip(chars='-')"
      ],
      "execution_count": null,
      "outputs": [
        {
          "output_type": "execute_result",
          "data": {
            "text/plain": [
              "Seq('AATGGCTTCGGA')"
            ]
          },
          "metadata": {
            "tags": []
          },
          "execution_count": 46
        }
      ]
    },
    {
      "cell_type": "markdown",
      "metadata": {
        "id": "-enUoDe4u8Rj"
      },
      "source": [
        "###**3.8 .join()**\n",
        "- intercala uma lista de string com um intercalador:"
      ]
    },
    {
      "cell_type": "code",
      "metadata": {
        "id": "QpNal8Eyt-uO",
        "colab": {
          "base_uri": "https://localhost:8080/"
        },
        "outputId": "0d72e5bf-a828-4141-d64a-dc8a60465113"
      },
      "source": [
        "# declaramos nosso intercalador\n",
        "intercalador = Seq(\"AAA\")\n",
        "\n",
        "# criamos uma lista com trechos\n",
        "lista = [\"GGGG\", \"TTTT\", \"CCCC\"]\n",
        "\n",
        "# o método .join() irá juntar os trechos, usando o intercalador entre eles\n",
        "intercalador.join(lista)"
      ],
      "execution_count": null,
      "outputs": [
        {
          "output_type": "execute_result",
          "data": {
            "text/plain": [
              "Seq('GGGGAAATTTTAAACCCC')"
            ]
          },
          "metadata": {
            "tags": []
          },
          "execution_count": 48
        }
      ]
    },
    {
      "cell_type": "markdown",
      "metadata": {
        "id": "B0Eo63mPvWV1"
      },
      "source": [
        "###**3.9 .upper()**\n",
        "- retorna todas as letras em maiúsculo:"
      ]
    },
    {
      "cell_type": "code",
      "metadata": {
        "id": "ozW6gE-avjyG",
        "colab": {
          "base_uri": "https://localhost:8080/"
        },
        "outputId": "004d5fe0-532e-4a36-d0e2-f4b22ad68f71"
      },
      "source": [
        "sequencia = Seq(\"aaAAaTttGGgggcccccCC\")\n",
        "sequencia.upper()"
      ],
      "execution_count": null,
      "outputs": [
        {
          "output_type": "execute_result",
          "data": {
            "text/plain": [
              "Seq('AAAAATTTGGGGGCCCCCCC')"
            ]
          },
          "metadata": {
            "tags": []
          },
          "execution_count": 49
        }
      ]
    },
    {
      "cell_type": "markdown",
      "metadata": {
        "id": "v7rUYpz_vgnu"
      },
      "source": [
        "###**3.10 .lower()**\n",
        "- retorna todas as letras em minúsculo:"
      ]
    },
    {
      "cell_type": "code",
      "metadata": {
        "id": "MvuMlPmKvtAe",
        "colab": {
          "base_uri": "https://localhost:8080/"
        },
        "outputId": "3aa1e172-9c60-47ce-9a05-7971da563dfa"
      },
      "source": [
        "sequencia = Seq(\"aaAAaTttGGgggcccccCC\")\n",
        "sequencia.lower()"
      ],
      "execution_count": null,
      "outputs": [
        {
          "output_type": "execute_result",
          "data": {
            "text/plain": [
              "Seq('aaaaatttgggggccccccc')"
            ]
          },
          "metadata": {
            "tags": []
          },
          "execution_count": 265
        }
      ]
    },
    {
      "cell_type": "markdown",
      "metadata": {
        "id": "vWOoeYRA3Tw_"
      },
      "source": [
        "#<font color=\"green\"> **4 Sequências**"
      ]
    },
    {
      "cell_type": "markdown",
      "metadata": {
        "id": "bCPcJ3_66skE"
      },
      "source": [
        "###**4.1 Concatenando sequências**\n",
        "- para unir sequências, podemos usar o operador \"+\" que, quando aplicado a strings, faz a concatenação:"
      ]
    },
    {
      "cell_type": "code",
      "metadata": {
        "id": "iQHyf0oc6lkw",
        "colab": {
          "base_uri": "https://localhost:8080/"
        },
        "outputId": "1a6a00fc-2bc8-46e4-cb0b-e6c64cd53a35"
      },
      "source": [
        "# vamos criar quatro sequências\n",
        "seq1 = Seq(\"AAAA\")\n",
        "seq2 = Seq(\"CCCC\")\n",
        "seq3 = Seq(\"GGGG\")\n",
        "seq4 = Seq(\"TTTT\")\n",
        "\n",
        "# concatenando as quatro sequências e salvando numa variável\n",
        "sequencia_concatenada = seq1 + seq2 + seq3 + seq4\n",
        "sequencia_concatenada "
      ],
      "execution_count": null,
      "outputs": [
        {
          "output_type": "execute_result",
          "data": {
            "text/plain": [
              "Seq('AAAACCCCGGGGTTTT')"
            ]
          },
          "metadata": {
            "tags": []
          },
          "execution_count": 51
        }
      ]
    },
    {
      "cell_type": "markdown",
      "metadata": {
        "id": "4bX2WlOw7YTT"
      },
      "source": [
        "###**4.1 Comparando sequências**\n",
        "- para comparar sequências, podemos usar o operador \"==\":"
      ]
    },
    {
      "cell_type": "code",
      "metadata": {
        "id": "ga5Kqsfw7fkk",
        "colab": {
          "base_uri": "https://localhost:8080/"
        },
        "outputId": "3b3ab545-a8f2-4ad8-99af-a797f012529b"
      },
      "source": [
        "# vamos criar essas três sequências\n",
        "seq1 = Seq(\"AAAACCCC\")\n",
        "seq2 = Seq(\"GGGGCCCC\")\n",
        "seq3 = Seq(\"AAAACCCC\")\n",
        "\n",
        "# comparando seq1 com seq2\n",
        "if seq1 == seq2:\n",
        "  print(\"São iguais\")\n",
        "else:\n",
        "  print(\"Não são iguais\")\n"
      ],
      "execution_count": null,
      "outputs": [
        {
          "output_type": "stream",
          "text": [
            "Não são iguais\n"
          ],
          "name": "stdout"
        }
      ]
    },
    {
      "cell_type": "code",
      "metadata": {
        "id": "Da-yqZKy779G",
        "colab": {
          "base_uri": "https://localhost:8080/"
        },
        "outputId": "8df63efc-3313-4c0b-f6fb-59e9f4092bb2"
      },
      "source": [
        "# comparando seq1 com seq3\n",
        "if seq1 == seq3:\n",
        "  print(\"São iguais\")\n",
        "else:\n",
        "  print(\"Não são iguais\")"
      ],
      "execution_count": null,
      "outputs": [
        {
          "output_type": "stream",
          "text": [
            "São iguais\n"
          ],
          "name": "stdout"
        }
      ]
    },
    {
      "cell_type": "markdown",
      "metadata": {
        "id": "5IMF6Nbb8Qt-"
      },
      "source": [
        "###**4.2 Verificando se uma sequência contém um trecho específico**\n",
        "- para verificar se um trecho de nucleotídeos está presente em uma sequência, usamos \"in\"\n",
        "\n",
        "*(pode parecer semelhante ao .find(), porém o \"in\" retorna um valor booleano True ou False, enquanto .find() retorna um índice)*"
      ]
    },
    {
      "cell_type": "code",
      "metadata": {
        "id": "fRyjdRXo8GdM",
        "colab": {
          "base_uri": "https://localhost:8080/"
        },
        "outputId": "588265ec-c2c6-41f4-afd8-42fc4421569f"
      },
      "source": [
        "# trecho de interesse\n",
        "trecho = Seq(\"AATT\")\n",
        "\n",
        "# sequência que queremos buscar o trecho\n",
        "sequencia = Seq(\"ATCGATGCTGACAATTGTCGATCGAAT\")\n",
        "\n",
        "trecho in sequencia\n"
      ],
      "execution_count": null,
      "outputs": [
        {
          "output_type": "execute_result",
          "data": {
            "text/plain": [
              "True"
            ]
          },
          "metadata": {
            "tags": []
          },
          "execution_count": 54
        }
      ]
    },
    {
      "cell_type": "code",
      "metadata": {
        "id": "FGTWPd84AQM1",
        "colab": {
          "base_uri": "https://localhost:8080/"
        },
        "outputId": "e94c120b-570e-4cf8-dc08-94a44f04cf5c"
      },
      "source": [
        "# podemos também imprimir uma mensagem \n",
        "if trecho in sequencia:\n",
        "  print(\"A sequência possui esse trecho\")\n",
        "else:\n",
        "  print(\"Esse trecho não está presente na sequência\")"
      ],
      "execution_count": null,
      "outputs": [
        {
          "output_type": "stream",
          "text": [
            "A sequência possui esse trecho\n"
          ],
          "name": "stdout"
        }
      ]
    },
    {
      "cell_type": "markdown",
      "metadata": {
        "id": "pqvatpImGb0b"
      },
      "source": [
        "#<font color=\"green\"> **5 Criando gráficos**\n",
        "\n",
        "- Iremos usar as bibliotecas Matplotlib e Seaborn:"
      ]
    },
    {
      "cell_type": "code",
      "metadata": {
        "id": "h5Qv2FXXHH1T"
      },
      "source": [
        "import matplotlib.pyplot as plt\n",
        "import seaborn as sns\n"
      ],
      "execution_count": null,
      "outputs": []
    },
    {
      "cell_type": "markdown",
      "metadata": {
        "id": "J89Idf9foEg6"
      },
      "source": [
        "- Vamos definir nossa sequência de interesse, a qual será usada para a construção dos gráficos:"
      ]
    },
    {
      "cell_type": "code",
      "metadata": {
        "id": "ZXMkmD3-G8pE"
      },
      "source": [
        "# essa será nossa sequência\n",
        "meu_dna = \"CCACCCTCGTGGTATGGCTAGGCATTCAGGAACCGGAGAACGCTTCAGACCAGCCCGGACTGGGAACCTGCGGGCAGTAGGTGGAAT\"\n",
        "\n",
        "# vamos garantir que todas as letras estejam em maiúsculo para evitar possíveis erros \n",
        "meu_dna = meu_dna.upper()  \n"
      ],
      "execution_count": null,
      "outputs": []
    },
    {
      "cell_type": "markdown",
      "metadata": {
        "id": "dzoZnvBXZAp9"
      },
      "source": [
        "###**5.1 Quantidade de nucleotídeos**\n",
        "- Nosso primeiro gráfico irá representar a quantidade de A, T, G, C presente na sequência de DNA.\n",
        "\n",
        "- Primeiro iremos criar uma função que conta a quantidade de A T G C e depois definir uma função para criar o gráfico:\n"
      ]
    },
    {
      "cell_type": "code",
      "metadata": {
        "id": "qeR7DriBID47"
      },
      "source": [
        "# função que retorna a quantidade de A T G C da sequência:\n",
        "def conta_nucleotideos(dna): \n",
        "  nucleotideos = [dna.count(\"A\"), dna.count(\"T\"), dna.count(\"G\"), dna.count(\"C\")]\n",
        "  return nucleotideos\n",
        "\n",
        "# chamando a função e guardando as quantidades na variável nnucleotídeos\n",
        "nucleotideos = conta_nucleotideos(meu_dna)  "
      ],
      "execution_count": null,
      "outputs": []
    },
    {
      "cell_type": "code",
      "metadata": {
        "id": "Cyu0SpciBHrq",
        "colab": {
          "base_uri": "https://localhost:8080/"
        },
        "outputId": "f5fa9d37-2275-4231-b128-b8512cd5ac86"
      },
      "source": [
        "# verificando as quantidades de cada base\n",
        "nucleotideos"
      ],
      "execution_count": null,
      "outputs": [
        {
          "output_type": "execute_result",
          "data": {
            "text/plain": [
              "[20, 14, 29, 24]"
            ]
          },
          "metadata": {
            "tags": []
          },
          "execution_count": 121
        }
      ]
    },
    {
      "cell_type": "code",
      "metadata": {
        "id": "4vDHABAIJjr0",
        "colab": {
          "base_uri": "https://localhost:8080/",
          "height": 398
        },
        "outputId": "b9695f08-2e97-477a-9ca5-6f7e5364b820"
      },
      "source": [
        "# função para criar o gráfico que recebe como parâmetros os nucleotídeos\n",
        "def cria_grafico_nucleotideos(nucleotideos):\n",
        "\n",
        "# valores do eixo x e suas cores\n",
        "  nome_bases = (\"A\", \"T\", \"G\", \"C\")\n",
        "  cores = (\"green\", \"red\", \"black\", \"blue\")\n",
        "\n",
        "# plotando o gráfico e legendas\n",
        "  plt.figure(figsize=(8,6))\n",
        "  plt.bar(nome_bases, nucleotideos, color = cores)\n",
        "  plt.ylabel(\"Quantidade de bases (valor absoluto)\", fontsize = 16)\n",
        "  plt.xticks([\"A\", \"T\", \"G\", \"C\"], fontsize = 16)\n",
        "  plt.xlabel(\"Nucleotídeo\", fontsize = 16);\n",
        "\n",
        "# chamamos a função\n",
        "cria_grafico_nucleotideos(nucleotideos)"
      ],
      "execution_count": null,
      "outputs": [
        {
          "output_type": "display_data",
          "data": {
            "image/png": "[encoded data removed]",
            "text/plain": [
              "<Figure size 576x432 with 1 Axes>"
            ]
          },
          "metadata": {
            "tags": [],
            "needs_background": "light"
          }
        }
      ]
    },
    {
      "cell_type": "markdown",
      "metadata": {
        "id": "NY3OFREjgSUk"
      },
      "source": [
        "###**5.2 Proporção de nucleotídeos**\n",
        "- Esse gráfico irá representar as proporções de A, T, G, C presente na sequência de DNA\n",
        "\n",
        "- Primeiro iremos criar uma função que retorna a proporção (%) de A T G C e depois definir uma função para criar o gráfico:"
      ]
    },
    {
      "cell_type": "code",
      "metadata": {
        "id": "yp1PzUXgdYyK"
      },
      "source": [
        "# função que retorna a proporção de A T G C da sequência:\n",
        "def proporcao_nucleotideos(dna): \n",
        "\n",
        "# criamos uma lsita vazia para guardar as proporções\n",
        "  proporcao = []\n",
        "\n",
        "# contamos a quantidade de cada base e depois somamos o valor total\n",
        "  bases = [dna.count(\"A\"), dna.count(\"T\"), dna.count(\"G\"), dna.count(\"C\")]\n",
        "  total = sum(bases)\n",
        "\n",
        "# obtemos a proporção de cada base\n",
        "  for base in bases:\n",
        "    proporcao.append((base/total) * 100)\n",
        "  return proporcao\n",
        "\n",
        "# chamamos a função\n",
        "proporcao = proporcao_nucleotideos(meu_dna)\n"
      ],
      "execution_count": null,
      "outputs": []
    },
    {
      "cell_type": "code",
      "metadata": {
        "id": "KDbGOlzkbb8m",
        "colab": {
          "base_uri": "https://localhost:8080/",
          "height": 402
        },
        "outputId": "483466e8-bee5-4339-d117-d5ef72fb4113"
      },
      "source": [
        "# função para criar o gráfico com as proporções de A, T, G, C:\n",
        "def cria_grafico_proporcao_nucleotideos(proporcao):\n",
        "  nome_bases = (\"A\", \"T\", \"G\", \"C\")\n",
        "  cores = (\"green\", \"red\", \"black\", \"blue\")\n",
        "\n",
        "  plt.figure(figsize=(8,6))\n",
        "  plt.bar(nome_bases, proporcao, color=cores)\n",
        "  plt.ylabel(\"Quantidade de bases (%)\", fontsize = 16)\n",
        "  plt.xticks([\"A\", \"T\", \"G\", \"C\"], fontsize = 16)\n",
        "  plt.xlabel(\"Nucleotídeo\", fontsize = 16);\n",
        "\n",
        "\n",
        "cria_grafico_proporcao_nucleotideos(proporcao)"
      ],
      "execution_count": null,
      "outputs": [
        {
          "output_type": "display_data",
          "data": {
            "image/png": "[encoded data removed]",
            "text/plain": [
              "<Figure size 576x432 with 1 Axes>"
            ]
          },
          "metadata": {
            "tags": [],
            "needs_background": "light"
          }
        }
      ]
    },
    {
      "cell_type": "markdown",
      "metadata": {
        "id": "QrXW1uFdgZLB"
      },
      "source": [
        "###**5.3 Conteúdo GC**\n",
        "- Vamos agora fazer um gráfico com a porcentagem de guanina e citosina e guanina+citosina presente na sequência de DNA.\n",
        "\n",
        "- Primeiro iremos criar uma função que retorna a proporção de G, C, G+C e depois uma função para plotar o gráfico:"
      ]
    },
    {
      "cell_type": "code",
      "metadata": {
        "id": "sYtnk9hjcAuR"
      },
      "source": [
        "# função que retorna a proporção de GC da sequência:\n",
        "def proporcao_gc(dna): \n",
        "\n",
        "# contar e somar G e C\n",
        "  bases_gc = dna.count(\"G\") + dna.count(\"C\")\n",
        "\n",
        "# tamanho total da sequência\n",
        "  total = len(dna)\n",
        "\n",
        "# obtendo a propoção de GC\n",
        "  proporcao = (bases_gc / total) * 100\n",
        "\n",
        "  return proporcao\n",
        "\n",
        "# chamando a função\n",
        "gc = proporcao_gc(meu_dna)\n"
      ],
      "execution_count": null,
      "outputs": []
    },
    {
      "cell_type": "code",
      "metadata": {
        "id": "e1WA-LO9g14H",
        "colab": {
          "base_uri": "https://localhost:8080/",
          "height": 379
        },
        "outputId": "29761519-f2b0-4e87-8ad0-20040e04a230"
      },
      "source": [
        "# função para criar o gráfico com o conteúdo GC x AT:\n",
        "def cria_grafico_conteudo_gc(gc):\n",
        "\n",
        "  eixo_x = (\"GC\", \"AT\")\n",
        "  cores = (\"red\", \"green\")\n",
        "  at = 100 - gc\n",
        "  eixo_y = [gc, at]\n",
        "\n",
        "  plt.figure(figsize=(8,6))\n",
        "  plt.bar(eixo_x, eixo_y, color = cores)\n",
        "  plt.xticks([\"GC\", \"AT\"], fontsize = 16)\n",
        "  plt.ylabel(\"Conteúdo GC (%)\", fontsize = 14)\n",
        "\n",
        "cria_grafico_conteudo_gc(gc)"
      ],
      "execution_count": null,
      "outputs": [
        {
          "output_type": "display_data",
          "data": {
            "image/png": "[encoded data removed]",
            "text/plain": [
              "<Figure size 576x432 with 1 Axes>"
            ]
          },
          "metadata": {
            "tags": [],
            "needs_background": "light"
          }
        }
      ]
    },
    {
      "cell_type": "code",
      "metadata": {
        "id": "5eCofh-nKTP-",
        "colab": {
          "base_uri": "https://localhost:8080/",
          "height": 412
        },
        "outputId": "0c1dab41-1055-4859-f5c8-e3c16cea9d7b"
      },
      "source": [
        "# função para criar um gráfico em pizza com o conteúdo GC x AT:\n",
        "def cria_grafico_pizza_conteudo_gc(gc):\n",
        "\n",
        "  cores = (\"red\", \"green\")\n",
        "  at = 100 - gc\n",
        "  dados = [gc, at]\n",
        "\n",
        "  plt.figure(figsize=(8,6))\n",
        "  plt.pie(dados, colors = cores)\n",
        "  plt.title(\"Conteúdo GC (%)\", fontsize = 16)\n",
        "  plt.xlabel(\"GC: {:.1f}% \\n AT: {:.1f}%\".format(gc, at), fontsize = 16)\n",
        "\n",
        "cria_grafico_pizza_conteudo_gc(gc)"
      ],
      "execution_count": null,
      "outputs": [
        {
          "output_type": "display_data",
          "data": {
            "image/png": "[encoded data removed]",
            "text/plain": [
              "<Figure size 576x432 with 1 Axes>"
            ]
          },
          "metadata": {
            "tags": []
          }
        }
      ]
    },
    {
      "cell_type": "code",
      "metadata": {
        "id": "8abJx_NBktNW"
      },
      "source": [
        ""
      ],
      "execution_count": null,
      "outputs": []
    }
  ]
}